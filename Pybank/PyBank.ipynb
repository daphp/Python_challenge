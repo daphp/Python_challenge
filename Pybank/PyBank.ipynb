{
 "cells": [
  {
   "cell_type": "code",
   "execution_count": null,
   "metadata": {},
   "outputs": [],
   "source": [
    "%pip install pandas"
   ]
  },
  {
   "cell_type": "code",
   "execution_count": 4,
   "metadata": {},
   "outputs": [
    {
     "name": "stdout",
     "output_type": "stream",
     "text": [
      "Financial Analysis\n",
      "----------------------------\n",
      "Total Months: 86\n",
      "Total: $22564198\n",
      "Average Change: $-8311.11\n",
      "Greatest Increase in Profits: Aug-16 ($1862002.0)\n",
      "Greatest Decrease in Profits: Feb-14 ($-1825558.0)\n"
     ]
    },
    {
     "data": {
      "text/html": [
       "<a href='analysis/financial_analysis.txt' target='_blank'>analysis/financial_analysis.txt</a><br>"
      ],
      "text/plain": [
       "C:\\Users\\Kamarley\\github\\Python_challenge\\Pybank\\analysis\\financial_analysis.txt"
      ]
     },
     "metadata": {},
     "output_type": "display_data"
    }
   ],
   "source": [
    "import pandas as pd\n",
    "\n",
    "# Load the dataset from the specified directory\n",
    "df = pd.read_csv('Resources/budget_data.csv')\n",
    "\n",
    "# Calculate the total number of months included in the dataset\n",
    "total_months = df.shape[0]\n",
    "\n",
    "# Calculate the net total amount of \"Profit/Losses\" over the entire period\n",
    "net_total = df['Profit/Losses'].sum()\n",
    "\n",
    "# Calculate the changes in \"Profit/Losses\" over the entire period\n",
    "df['Change'] = df['Profit/Losses'].diff()\n",
    "\n",
    "# Calculate the average of those changes\n",
    "average_change = df['Change'].mean()\n",
    "\n",
    "# Find the greatest increase in profits (date and amount) over the entire period\n",
    "greatest_increase = df.loc[df['Change'].idxmax()]\n",
    "greatest_increase_date = greatest_increase['Date']\n",
    "greatest_increase_amount = greatest_increase['Change']\n",
    "\n",
    "# Find the greatest decrease in profits (date and amount) over the entire period\n",
    "greatest_decrease = df.loc[df['Change'].idxmin()]\n",
    "greatest_decrease_date = greatest_decrease['Date']\n",
    "greatest_decrease_amount = greatest_decrease['Change']\n",
    "\n",
    "# Prepare the output\n",
    "output = (\n",
    "    \"Financial Analysis\\n\"\n",
    "    \"----------------------------\\n\"\n",
    "    f\"Total Months: {total_months}\\n\"\n",
    "    f\"Total: ${net_total}\\n\"\n",
    "    f\"Average Change: ${average_change:.2f}\\n\"\n",
    "    f\"Greatest Increase in Profits: {greatest_increase_date} (${greatest_increase_amount})\\n\"\n",
    "    f\"Greatest Decrease in Profits: {greatest_decrease_date} (${greatest_decrease_amount})\"\n",
    ")\n",
    "\n",
    "# Print the output\n",
    "print(output)\n",
    "\n",
    "# Export the results to a text file in the specified directory\n",
    "output_directory = 'analysis'\n",
    "output_path = f'{output_directory}/financial_analysis.txt'\n",
    "\n",
    "with open(output_path, 'w') as file:\n",
    "    file.write(output)\n",
    "\n",
    "# Code to download the file in Jupyter notebook\n",
    "from IPython.display import FileLink\n",
    "\n",
    "# Display a link to download the file\n",
    "display(FileLink(output_path))\n"
   ]
  },
  {
   "cell_type": "code",
   "execution_count": null,
   "metadata": {},
   "outputs": [],
   "source": []
  }
 ],
 "metadata": {
  "kernelspec": {
   "display_name": "Python 3 (ipykernel)",
   "language": "python",
   "name": "python3"
  },
  "language_info": {
   "codemirror_mode": {
    "name": "ipython",
    "version": 3
   },
   "file_extension": ".py",
   "mimetype": "text/x-python",
   "name": "python",
   "nbconvert_exporter": "python",
   "pygments_lexer": "ipython3",
   "version": "3.12.4"
  }
 },
 "nbformat": 4,
 "nbformat_minor": 4
}
