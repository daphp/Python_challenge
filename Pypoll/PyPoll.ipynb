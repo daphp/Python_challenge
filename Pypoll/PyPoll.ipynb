{
 "cells": [
  {
   "cell_type": "code",
   "execution_count": 1,
   "metadata": {},
   "outputs": [],
   "source": [
    "%pip install pandas"
   ]
  },
  {
   "cell_type": "code",
   "execution_count": 2,
   "metadata": {},
   "outputs": [
    {
     "name": "stdout",
     "output_type": "stream",
     "text": [
      "Election Results\n",
      "----------------------------\n",
      "Total Votes: 369711\n",
      "----------------------------\n",
      "Charles Casper Stockham: 23.049% (85213)\n",
      "Diana DeGette: 73.812% (272892)\n",
      "Raymon Anthony Doane: 3.139% (11606)\n",
      "----------------------------\n",
      "Winner: Diana DeGette\n",
      "----------------------------\n"
     ]
    },
    {
     "data": {
      "text/html": [
       "<a href='analysis/financial_analysis.txt' target='_blank'>analysis/financial_analysis.txt</a><br>"
      ],
      "text/plain": [
       "C:\\Users\\Kamarley\\github\\Python_challenge\\Pypoll\\analysis\\financial_analysis.txt"
      ]
     },
     "metadata": {},
     "output_type": "display_data"
    }
   ],
   "source": [
    "import os\n",
    "import pandas as pd\n",
    "from IPython.display import FileLink\n",
    "\n",
    "# Load the dataset\n",
    "df = pd.read_csv('Resources/election_data.csv')\n",
    "\n",
    "# Calculate the total number of votes cast\n",
    "total_votes = df.shape[0]\n",
    "\n",
    "# Get a complete list of candidates who received votes\n",
    "candidates = df['Candidate'].unique()\n",
    "\n",
    "# Calculate the total number of votes each candidate won\n",
    "vote_counts = df['Candidate'].value_counts()\n",
    "\n",
    "# Calculate the percentage of votes each candidate won\n",
    "vote_percentages = (vote_counts / total_votes) * 100\n",
    "\n",
    "# Determine the winner of the election based on popular vote\n",
    "winner = vote_counts.idxmax()\n",
    "\n",
    "# Prepare the output\n",
    "output = (\n",
    "    \"Election Results\\n\"\n",
    "    \"----------------------------\\n\"\n",
    "    f\"Total Votes: {total_votes}\\n\"\n",
    "    \"----------------------------\\n\"\n",
    ")\n",
    "\n",
    "for candidate in candidates:\n",
    "    output += f\"{candidate}: {vote_percentages[candidate]:.3f}% ({vote_counts[candidate]})\\n\"\n",
    "\n",
    "output += \"----------------------------\\n\"\n",
    "output += f\"Winner: {winner}\\n\"\n",
    "output += \"----------------------------\"\n",
    "\n",
    "# Print the output\n",
    "print(output)\n",
    "\n",
    "# Export the results to a text file in the specified directory\n",
    "output_directory = 'analysis'\n",
    "output_path = f'{output_directory}/financial_analysis.txt'\n",
    "\n",
    "# Ensure the output directory exists\n",
    "os.makedirs(output_directory, exist_ok=True)\n",
    "\n",
    "with open(output_path, 'w') as file:\n",
    "    file.write(output)\n",
    "\n",
    "# Display a link to download the file\n",
    "display(FileLink(output_path))"
   ]
  },
  {
   "cell_type": "code",
   "execution_count": null,
   "metadata": {},
   "outputs": [],
   "source": []
  }
 ],
 "metadata": {
  "kernelspec": {
   "display_name": "Python 3 (ipykernel)",
   "language": "python",
   "name": "python3"
  },
  "language_info": {
   "codemirror_mode": {
    "name": "ipython",
    "version": 3
   },
   "file_extension": ".py",
   "mimetype": "text/x-python",
   "name": "python",
   "nbconvert_exporter": "python",
   "pygments_lexer": "ipython3",
   "version": "3.12.4"
  }
 },
 "nbformat": 4,
 "nbformat_minor": 4
}
